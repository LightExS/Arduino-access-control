{
 "cells": [
  {
   "cell_type": "code",
   "execution_count": 1,
   "metadata": {},
   "outputs": [],
   "source": [
    "import sqlalchemy as db"
   ]
  },
  {
   "cell_type": "code",
   "execution_count": 3,
   "metadata": {},
   "outputs": [],
   "source": [
    "engine = db.create_engine(\"sqlite:///users_database.db\")\n",
    "con = engine.connect()\n",
    "metadata = db.MetaData()\n",
    "authorized_users = db.Table(\"authorized_users\", metadata, autoload_with=engine)\n",
    "access_history = db.Table(\"access_history\", metadata, autoload_with=engine)"
   ]
  },
  {
   "cell_type": "markdown",
   "metadata": {},
   "source": [
    "View \"authorized_users\" table\n"
   ]
  },
  {
   "cell_type": "code",
   "execution_count": null,
   "metadata": {},
   "outputs": [],
   "source": [
    "data = con.execute(db.select(authorized_users)).fetchall()\n",
    "print(\"Authorized users in database:\")\n",
    "\n",
    "\n",
    "for row in data:\n",
    "\n",
    "    print(row)"
   ]
  },
  {
   "cell_type": "markdown",
   "metadata": {},
   "source": [
    "Add key to \"authorized_users\" table\n"
   ]
  },
  {
   "cell_type": "code",
   "execution_count": 4,
   "metadata": {},
   "outputs": [],
   "source": [
    "new_user_name = \"Name\"\n",
    "new_user_key = \"255 255 255 255\"  # pattern: \"value value value value\"\n",
    "query = db.insert(authorized_users).values(name=new_user_name, key=new_user_key)\n",
    "con.execute(query)\n",
    "con.commit()"
   ]
  },
  {
   "cell_type": "markdown",
   "metadata": {},
   "source": [
    "Delete key from \"authorized_users\" table\n"
   ]
  },
  {
   "cell_type": "code",
   "execution_count": 6,
   "metadata": {},
   "outputs": [],
   "source": [
    "user_name = \"Name\"\n",
    "query = db.delete(authorized_users).where(authorized_users.c.name == user_name)\n",
    "con.execute(query)\n",
    "con.commit()"
   ]
  },
  {
   "cell_type": "markdown",
   "metadata": {},
   "source": [
    "View \"access_history\" table\n"
   ]
  },
  {
   "cell_type": "code",
   "execution_count": 8,
   "metadata": {},
   "outputs": [
    {
     "name": "stdout",
     "output_type": "stream",
     "text": [
      "Access history in database:\n"
     ]
    }
   ],
   "source": [
    "data = con.execute(db.select(access_history)).fetchall()\n",
    "print(\"Access history in database:\")\n",
    "\n",
    "\n",
    "for row in data:\n",
    "\n",
    "    print(row)"
   ]
  },
  {
   "cell_type": "markdown",
   "metadata": {},
   "source": [
    "Add key to \"access_history\" table\n"
   ]
  },
  {
   "cell_type": "code",
   "execution_count": null,
   "metadata": {},
   "outputs": [],
   "source": [
    "new_record_key = \"255 255 255 255\"  # pattern: \"value value value value\"\n",
    "query = db.insert(access_history).values(key=new_record_key)\n",
    "con.execute(query)\n",
    "con.commit()"
   ]
  },
  {
   "cell_type": "markdown",
   "metadata": {},
   "source": [
    "Delete record from \"access_history\" table\n"
   ]
  },
  {
   "cell_type": "code",
   "execution_count": null,
   "metadata": {},
   "outputs": [],
   "source": [
    "record_id = 0\n",
    "query = db.delete(access_history).where(access_history.c.id == record_id)\n",
    "con.execute(query)\n",
    "con.commit()"
   ]
  }
 ],
 "metadata": {
  "kernelspec": {
   "display_name": "Python 3",
   "language": "python",
   "name": "python3"
  },
  "language_info": {
   "codemirror_mode": {
    "name": "ipython",
    "version": 3
   },
   "file_extension": ".py",
   "mimetype": "text/x-python",
   "name": "python",
   "nbconvert_exporter": "python",
   "pygments_lexer": "ipython3",
   "version": "3.11.3"
  }
 },
 "nbformat": 4,
 "nbformat_minor": 2
}
